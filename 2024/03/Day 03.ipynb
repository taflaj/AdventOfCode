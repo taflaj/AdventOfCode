{
 "cells": [
  {
   "cell_type": "markdown",
   "id": "c13084b5-3c0b-4696-a24c-a80a0f7921c6",
   "metadata": {},
   "source": [
    "# Day 3: Mull It Over"
   ]
  },
  {
   "cell_type": "markdown",
   "id": "c5c7a860-9e99-4078-8658-96c9a4b9c5b7",
   "metadata": {},
   "source": [
    "### Supporting Functions"
   ]
  },
  {
   "cell_type": "code",
   "execution_count": 1,
   "id": "c1b2e611-2576-4040-bbe8-31c2cea235a5",
   "metadata": {},
   "outputs": [],
   "source": [
    "import re"
   ]
  },
  {
   "cell_type": "code",
   "execution_count": 2,
   "id": "43b6e9e7-d3b9-4886-99ec-b597e8d7f785",
   "metadata": {},
   "outputs": [],
   "source": [
    "numbers = re.compile(r\"\\d+\")\n",
    "\n",
    "def multiply(input: str) -> int:\n",
    "    operands = numbers.findall(input)\n",
    "    return int(operands[0]) * int(operands[1])"
   ]
  },
  {
   "cell_type": "markdown",
   "id": "cd715eeb-34d5-4730-8053-6e260c3918d4",
   "metadata": {},
   "source": [
    "## Part 1"
   ]
  },
  {
   "cell_type": "code",
   "execution_count": 3,
   "id": "0888086c-e524-4116-a9bc-fce58d8ec34f",
   "metadata": {},
   "outputs": [],
   "source": [
    "commands = re.compile(r\"mul\\(\\d+,\\d+\\)\")\n",
    "\n",
    "def part1(input: str) -> int:\n",
    "    total = 0\n",
    "    instructions = commands.findall(input)\n",
    "    for instruction in instructions:\n",
    "        total += multiply(instruction)\n",
    "    return total"
   ]
  },
  {
   "cell_type": "code",
   "execution_count": 4,
   "id": "1c823c12-5ba6-4153-b73b-bd067d9cd73f",
   "metadata": {},
   "outputs": [
    {
     "data": {
      "text/plain": [
       "161"
      ]
     },
     "execution_count": 4,
     "metadata": {},
     "output_type": "execute_result"
    }
   ],
   "source": [
    "with open('test1.txt', 'r') as f:\n",
    "    contents = f.read()\n",
    "part1(contents)"
   ]
  },
  {
   "cell_type": "code",
   "execution_count": 5,
   "id": "6c8c0eb1-d59f-4d2f-8464-ea35032dcc79",
   "metadata": {},
   "outputs": [
    {
     "data": {
      "text/plain": [
       "178794710"
      ]
     },
     "execution_count": 5,
     "metadata": {},
     "output_type": "execute_result"
    }
   ],
   "source": [
    "with open('input.txt', 'r') as f:\n",
    "    contents = f.read()\n",
    "part1(contents)"
   ]
  },
  {
   "cell_type": "markdown",
   "id": "f440a13e-5044-4c41-81fe-ec986fa91c52",
   "metadata": {},
   "source": [
    "## Part 2"
   ]
  },
  {
   "cell_type": "code",
   "execution_count": 6,
   "id": "2d1f6c8f-d6d3-488c-887e-d4dd6bedaa48",
   "metadata": {},
   "outputs": [],
   "source": [
    "keywords = re.compile(r\"do\\(\\)|don't\\(\\)|mul\\(\\d+,\\d+\\)\")\n",
    "\n",
    "def part2(input: str) -> int:\n",
    "    enabled = True\n",
    "    total = 0\n",
    "    for keyword in keywords.findall(contents):\n",
    "        if keyword == \"do()\":\n",
    "            enabled = True\n",
    "        elif keyword == \"don't()\":\n",
    "            enabled = False\n",
    "        elif enabled:\n",
    "            total += multiply(keyword)\n",
    "    return total"
   ]
  },
  {
   "cell_type": "code",
   "execution_count": 7,
   "id": "7f512eff-8ee0-48fc-88c4-f4ef09440fd5",
   "metadata": {},
   "outputs": [
    {
     "data": {
      "text/plain": [
       "48"
      ]
     },
     "execution_count": 7,
     "metadata": {},
     "output_type": "execute_result"
    }
   ],
   "source": [
    "with open('test2.txt', 'r') as f:\n",
    "    contents = f.read()\n",
    "part2(contents)"
   ]
  },
  {
   "cell_type": "code",
   "execution_count": 8,
   "id": "57164343-c43d-4c88-95e2-46c028d9b43c",
   "metadata": {},
   "outputs": [
    {
     "data": {
      "text/plain": [
       "91"
      ]
     },
     "execution_count": 8,
     "metadata": {},
     "output_type": "execute_result"
    }
   ],
   "source": [
    "contents = \"xmul(1,1)&mul[3,7]!^do()mul(2,2)don't()_mul(15,5)+mul(32,64](mul(11,8)undo()?mul(3,3))do()mul(4,4)mul(5,5)don't()_mul(50,5)+mul(32,64](mul(11,8)justdo()mul(6,6)\"\n",
    "part2(contents)"
   ]
  },
  {
   "cell_type": "code",
   "execution_count": 9,
   "id": "a9ecc42d-c133-4229-86ee-f3e67606e12d",
   "metadata": {},
   "outputs": [
    {
     "data": {
      "text/plain": [
       "76729637"
      ]
     },
     "execution_count": 9,
     "metadata": {},
     "output_type": "execute_result"
    }
   ],
   "source": [
    "with open('input.txt', 'r') as f:\n",
    "    contents = f.read()\n",
    "part2(contents)"
   ]
  }
 ],
 "metadata": {
  "kernelspec": {
   "display_name": "Python 3 (ipykernel)",
   "language": "python",
   "name": "python3"
  },
  "language_info": {
   "codemirror_mode": {
    "name": "ipython",
    "version": 3
   },
   "file_extension": ".py",
   "mimetype": "text/x-python",
   "name": "python",
   "nbconvert_exporter": "python",
   "pygments_lexer": "ipython3",
   "version": "3.12.7"
  }
 },
 "nbformat": 4,
 "nbformat_minor": 5
}
