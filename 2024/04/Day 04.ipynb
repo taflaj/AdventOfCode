{
 "cells": [
  {
   "cell_type": "markdown",
   "id": "29664ad6-b018-4c52-9087-e93813a5889e",
   "metadata": {},
   "source": [
    "# Day 4: Ceres Search"
   ]
  },
  {
   "cell_type": "markdown",
   "id": "2dda1534-64c7-4e90-8d7f-4f3bdf3c1dbe",
   "metadata": {},
   "source": [
    "### Supporting Functions"
   ]
  },
  {
   "cell_type": "code",
   "execution_count": 1,
   "id": "c5b5cb4b-9556-48bc-9933-ea2cc8ed6bca",
   "metadata": {},
   "outputs": [],
   "source": [
    "def test(input: list, y: int, x: int, ch: str) -> bool:\n",
    "    if 0 <= y < len(input):\n",
    "        if 0 <= x < len(input[0]):\n",
    "            if input[y][x] == ch:\n",
    "                return True\n",
    "    return False"
   ]
  },
  {
   "cell_type": "markdown",
   "id": "6bceb6bf-0cf8-48f9-9264-702267eb11a8",
   "metadata": {},
   "source": [
    "## Part 1"
   ]
  },
  {
   "cell_type": "code",
   "execution_count": 2,
   "id": "caa02932-456e-4249-a8d7-edbe96cb2a74",
   "metadata": {},
   "outputs": [],
   "source": [
    "def part1(input: list) -> int:\n",
    "    count = 0\n",
    "    for i in range(len(input)):\n",
    "        for j in range(len(input[0])):\n",
    "            if test(input, i, j, 'X'):\n",
    "                if test(input, i, j+1, 'M') \\\n",
    "                and test(input, i, j+2, 'A') \\\n",
    "                and test(input, i, j+3, 'S'):\n",
    "                    count += 1\n",
    "                if test(input, i+1, j+1, 'M') \\\n",
    "                and test(input, i+2, j+2, 'A') \\\n",
    "                and test(input, i+3, j+3, 'S'):\n",
    "                    count += 1\n",
    "                if test(input, i+1, j, 'M') \\\n",
    "                and test(input, i+2, j, 'A') \\\n",
    "                and test(input, i+3, j, 'S'):\n",
    "                    count += 1\n",
    "                if test(input, i+1, j-1, 'M') \\\n",
    "                and test(input, i+2, j-2, 'A') \\\n",
    "                and test(input, i+3, j-3, 'S'):\n",
    "                    count += 1\n",
    "                if test(input, i, j-1, 'M') \\\n",
    "                and test(input, i, j-2, 'A') \\\n",
    "                and test(input, i, j-3, 'S'):\n",
    "                    count += 1\n",
    "                if test(input, i-1, j-1, 'M') \\\n",
    "                and test(input, i-2, j-2, 'A') \\\n",
    "                and test(input, i-3, j-3, 'S'):\n",
    "                    count += 1\n",
    "                if test(input, i-1, j, 'M') \\\n",
    "                and test(input, i-2, j, 'A') \\\n",
    "                and test(input, i-3, j, 'S'):\n",
    "                    count += 1\n",
    "                if test(input, i-1, j+1, 'M') \\\n",
    "                and test(input, i-2, j+2, 'A') \\\n",
    "                and test(input, i-3, j+3, 'S'):\n",
    "                    count += 1\n",
    "    return count"
   ]
  },
  {
   "cell_type": "code",
   "execution_count": 3,
   "id": "d762ba16-82dd-4998-b81b-6a1104d1c30d",
   "metadata": {},
   "outputs": [
    {
     "data": {
      "text/plain": [
       "18"
      ]
     },
     "execution_count": 3,
     "metadata": {},
     "output_type": "execute_result"
    }
   ],
   "source": [
    "with open('test.txt', 'r') as f:\n",
    "    contents = f.read().splitlines()\n",
    "part1(contents)"
   ]
  },
  {
   "cell_type": "code",
   "execution_count": 4,
   "id": "dc9cb2fa-d7a8-4ff8-b3fb-aa7ff5b15d2b",
   "metadata": {},
   "outputs": [
    {
     "data": {
      "text/plain": [
       "2551"
      ]
     },
     "execution_count": 4,
     "metadata": {},
     "output_type": "execute_result"
    }
   ],
   "source": [
    "with open('input.txt', 'r') as f:\n",
    "    contents = f.read().splitlines()\n",
    "part1(contents)"
   ]
  },
  {
   "cell_type": "markdown",
   "id": "cf2a3dcc-8c69-4336-adc8-a38808364d94",
   "metadata": {},
   "source": [
    "## Part 2"
   ]
  },
  {
   "cell_type": "code",
   "execution_count": 5,
   "id": "16cec84e-e542-4c2a-adfa-308271238267",
   "metadata": {},
   "outputs": [],
   "source": [
    "def part2(input: list) -> int:\n",
    "    count = 0\n",
    "    for i in range(len(input)):\n",
    "        for j in range(len(input[0])):\n",
    "            if test(input, i, j, 'A'):\n",
    "                if (test(input, i-1, j-1, 'M') and test(input, i+1, j+1, 'S')) \\\n",
    "                or (test(input, i-1, j-1, 'S') and test(input, i+1, j+1, 'M')):\n",
    "                    if (test(input, i-1, j+1, 'M') and test(input, i+1, j-1, 'S')) \\\n",
    "                    or (test(input, i-1, j+1, 'S') and test(input, i+1, j-1, 'M')):\n",
    "                        count += 1\n",
    "    return count"
   ]
  },
  {
   "cell_type": "code",
   "execution_count": 6,
   "id": "f0d20c75-d4d7-4273-8dca-fc268b8ec7f4",
   "metadata": {},
   "outputs": [
    {
     "data": {
      "text/plain": [
       "9"
      ]
     },
     "execution_count": 6,
     "metadata": {},
     "output_type": "execute_result"
    }
   ],
   "source": [
    "with open('test.txt', 'r') as f:\n",
    "    contents = f.read().splitlines()\n",
    "part2(contents)"
   ]
  },
  {
   "cell_type": "code",
   "execution_count": 7,
   "id": "238bf6d0-38e1-4c1d-9375-c5b287f1d0a8",
   "metadata": {},
   "outputs": [
    {
     "data": {
      "text/plain": [
       "1985"
      ]
     },
     "execution_count": 7,
     "metadata": {},
     "output_type": "execute_result"
    }
   ],
   "source": [
    "with open('input.txt', 'r') as f:\n",
    "    contents = f.read().splitlines()\n",
    "part2(contents)"
   ]
  }
 ],
 "metadata": {
  "kernelspec": {
   "display_name": "Python 3 (ipykernel)",
   "language": "python",
   "name": "python3"
  },
  "language_info": {
   "codemirror_mode": {
    "name": "ipython",
    "version": 3
   },
   "file_extension": ".py",
   "mimetype": "text/x-python",
   "name": "python",
   "nbconvert_exporter": "python",
   "pygments_lexer": "ipython3",
   "version": "3.12.7"
  }
 },
 "nbformat": 4,
 "nbformat_minor": 5
}
